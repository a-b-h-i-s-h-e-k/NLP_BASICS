{
 "cells": [
  {
   "cell_type": "markdown",
   "id": "521e62eb-f034-4373-a9dc-47242a8ef431",
   "metadata": {},
   "source": [
    "Spacy is Object-Oriented, where as NLTK is string processing library.\n",
    "\n",
    "\n",
    "\n",
    "pip install spacy\n",
    "\n",
    "python -m spacy download en  <br>  # Downloading all the packages related to en [english]\n",
    "\n",
    "pip install nltk\n"
   ]
  },
  {
   "cell_type": "code",
   "execution_count": 3,
   "id": "7a58f4c7-187a-4b77-8715-0da1129fa930",
   "metadata": {},
   "outputs": [],
   "source": [
    "#!pip install spacy"
   ]
  },
  {
   "cell_type": "code",
   "execution_count": 4,
   "id": "1f9f63ba-147c-412e-9bc8-88f8996b5ec4",
   "metadata": {},
   "outputs": [],
   "source": [
    "#!pip install nltk"
   ]
  },
  {
   "cell_type": "markdown",
   "id": "c877df8e-24d1-4973-84df-0e51f7f02b7e",
   "metadata": {},
   "source": [
    "## Sentence & Word Tokenization In Spacy"
   ]
  },
  {
   "cell_type": "code",
   "execution_count": 5,
   "id": "74401172-d923-48c3-b5b5-f0ee49d1718b",
   "metadata": {},
   "outputs": [],
   "source": [
    "import spacy"
   ]
  },
  {
   "cell_type": "code",
   "execution_count": 7,
   "id": "d08df583-9904-4c68-9402-f4473d40f728",
   "metadata": {},
   "outputs": [],
   "source": [
    "# Loading the small English model from spaCy\n",
    "nlp = spacy.load(\"en_core_web_sm\")\n",
    "\n",
    "# Processing a text string through the spaCy NLP pipeline to analyze it\n",
    "doc = nlp(\"Dr. Strange loves pav bhaji of mumbai. Hulk loves chat of delhi\")\n",
    "\n",
    "# The 'doc' object now contains the parsed text, with tokens and linguistic attributes accessible for analysis\n"
   ]
  },
  {
   "cell_type": "code",
   "execution_count": 8,
   "id": "c8d94e84-d725-416e-a0ac-d93b4b74f3c8",
   "metadata": {},
   "outputs": [
    {
     "name": "stdout",
     "output_type": "stream",
     "text": [
      "Dr. Strange loves pav bhaji of mumbai.\n",
      "Hulk loves chat of delhi\n"
     ]
    }
   ],
   "source": [
    "# Iterating over each sentence in the parsed document\n",
    "for sentence in doc.sents:\n",
    "    # Printing each sentence in the document\n",
    "    print(sentence)\n",
    "\n",
    "# splitting the sentences here"
   ]
  },
  {
   "cell_type": "code",
   "execution_count": 10,
   "id": "3ff56f03-1b90-4dc0-aaa2-1dc46797dfba",
   "metadata": {},
   "outputs": [
    {
     "name": "stdout",
     "output_type": "stream",
     "text": [
      "Dr.\n",
      "Strange\n",
      "loves\n",
      "pav\n",
      "bhaji\n",
      "of\n",
      "mumbai\n",
      ".\n",
      "Hulk\n",
      "loves\n",
      "chat\n",
      "of\n",
      "delhi\n"
     ]
    }
   ],
   "source": [
    "# Iterating over each sentence in the parsed document\n",
    "# we create a object as doc and the object have property as sents\n",
    "for sentence in doc.sents:\n",
    "    # Iterating over each word (token) in the current sentence\n",
    "    for word in sentence:\n",
    "        # Printing each word in the sentence\n",
    "        print(word)"
   ]
  },
  {
   "cell_type": "markdown",
   "id": "ef1233e9-9b4f-43ea-8c9c-ca83ab602a15",
   "metadata": {},
   "source": [
    "## Sentence & Word Tokenization In NLTK"
   ]
  },
  {
   "cell_type": "code",
   "execution_count": 11,
   "id": "1e0a0540-bf37-4f14-9dda-f5ddc4b68328",
   "metadata": {},
   "outputs": [
    {
     "name": "stderr",
     "output_type": "stream",
     "text": [
      "[nltk_data] Downloading package punkt to /home/debian/nltk_data...\n",
      "[nltk_data]   Package punkt is already up-to-date!\n"
     ]
    },
    {
     "data": {
      "text/plain": [
       "True"
      ]
     },
     "execution_count": 11,
     "metadata": {},
     "output_type": "execute_result"
    }
   ],
   "source": [
    "# Importing the sentence tokenizer from the nltk.tokenize module\n",
    "from nltk.tokenize import sent_tokenize\n",
    "\n",
    "# Importing the nltk library to download necessary resources\n",
    "import nltk\n",
    "\n",
    "# Downloading the 'punkt' resource, which is a pre-trained tokenizer for sentence and word tokenization\n",
    "nltk.download('punkt')"
   ]
  },
  {
   "cell_type": "code",
   "execution_count": 12,
   "id": "5787b462-dceb-4793-aa87-62e9805b4f6a",
   "metadata": {},
   "outputs": [
    {
     "name": "stdout",
     "output_type": "stream",
     "text": [
      "['Dr.', 'Strange loves pav bhaji of mumbai.', 'Hulk loves chat of delhi']\n"
     ]
    }
   ],
   "source": [
    "# Tokenizing the text into sentences, splitting at sentence boundaries\n",
    "sentences = sent_tokenize(\"Dr. Strange loves pav bhaji of mumbai. Hulk loves chat of delhi\")\n",
    "# Displaying the list of sentences obtained from tokenizing the text\n",
    "print(sentences)"
   ]
  },
  {
   "cell_type": "code",
   "execution_count": 13,
   "id": "5dba266e-9b4b-4262-a2b9-11972ab4d49b",
   "metadata": {},
   "outputs": [],
   "source": [
    "# Importing the word tokenizer from the nltk.tokenize module\n",
    "from nltk.tokenize import word_tokenize"
   ]
  },
  {
   "cell_type": "code",
   "execution_count": 14,
   "id": "c6a8ed44-2a5f-4a75-ab23-fed6b53dbd10",
   "metadata": {},
   "outputs": [
    {
     "name": "stdout",
     "output_type": "stream",
     "text": [
      "['Dr', '.', 'Strange', 'loves', 'pav', 'bhaji', 'of', 'mumbai', '.', 'Hulk', 'loves', 'chat', 'of', 'delhi']\n"
     ]
    }
   ],
   "source": [
    "# Tokenizing the text into words, splitting at word boundaries\n",
    "words = word_tokenize(\"Dr. Strange loves pav bhaji of mumbai. Hulk loves chat of delhi\")\n",
    "# Displaying the list of words obtained from tokenizing the text\n",
    "print(words)"
   ]
  },
  {
   "cell_type": "markdown",
   "id": "405d2d4f-33ec-42b1-b962-302446f8f637",
   "metadata": {},
   "source": [
    "From above code we can see that Spacy is object oriented whereas NLTK is a string processing library"
   ]
  },
  {
   "cell_type": "code",
   "execution_count": null,
   "id": "06384de5-4047-43fb-bc89-872025b1d056",
   "metadata": {},
   "outputs": [],
   "source": []
  }
 ],
 "metadata": {
  "kernelspec": {
   "display_name": "Python 3 (ipykernel)",
   "language": "python",
   "name": "python3"
  },
  "language_info": {
   "codemirror_mode": {
    "name": "ipython",
    "version": 3
   },
   "file_extension": ".py",
   "mimetype": "text/x-python",
   "name": "python",
   "nbconvert_exporter": "python",
   "pygments_lexer": "ipython3",
   "version": "3.10.14"
  }
 },
 "nbformat": 4,
 "nbformat_minor": 5
}
