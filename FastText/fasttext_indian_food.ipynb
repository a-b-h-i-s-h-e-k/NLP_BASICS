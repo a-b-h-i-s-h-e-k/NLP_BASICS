{
 "cells": [
  {
   "cell_type": "markdown",
   "id": "ad73eca0-643a-4f2c-a557-9f6921f20008",
   "metadata": {},
   "source": [
    "# website --> https://fasttext.cc/\n",
    "\n",
    "\n",
    "Download and explore pre-trained models <br>\n",
    "(1) Explore English Model"
   ]
  },
  {
   "cell_type": "code",
   "execution_count": 2,
   "id": "008c2491-4f2f-439c-a136-7d34875228b1",
   "metadata": {},
   "outputs": [],
   "source": [
    "# !pip install fasttext"
   ]
  },
  {
   "cell_type": "code",
   "execution_count": null,
   "id": "c047a8c0-3936-4066-95b6-db08b92414a5",
   "metadata": {},
   "outputs": [],
   "source": [
    "import fasttext\n",
    "\n",
    "model_en = fasttext.load_model('C:\\\\Code\\\\nlp-tutorials\\\\downloads\\\\cc.en.300.bin')  # download the model from fastext\n",
    "\n",
    "model_en.get_nearest_neighbors('good')"
   ]
  },
  {
   "cell_type": "code",
   "execution_count": null,
   "id": "6aae738a-e2ce-4fa6-9bfa-562cdc68b615",
   "metadata": {},
   "outputs": [],
   "source": [
    "dir(model_en)\n",
    "\n",
    "# To find out different method"
   ]
  },
  {
   "cell_type": "code",
   "execution_count": null,
   "id": "fadd43d9-a83f-4297-ac4e-5bcbfd7ef3eb",
   "metadata": {},
   "outputs": [],
   "source": [
    "model_en.get_word_vector(\"good\").shape"
   ]
  },
  {
   "cell_type": "code",
   "execution_count": null,
   "id": "9b0dc8d8-8230-40d8-9b56-21811e2005cc",
   "metadata": {},
   "outputs": [],
   "source": [
    "model_en.get_analogies(\"berlin\",\"germany\",\"france\")\n",
    "\n",
    "# find relationship between words what is relation of berlin with germany and what about india and what is relation about india"
   ]
  },
  {
   "cell_type": "code",
   "execution_count": null,
   "id": "d04ef74e-afb4-4aa0-b7b6-6474ffe128d7",
   "metadata": {},
   "outputs": [],
   "source": [
    "model_en.get_analogies(\"berlin\",\"germany\",\"india\")"
   ]
  },
  {
   "cell_type": "code",
   "execution_count": null,
   "id": "b30e0406-45a8-4a70-969a-fd4141e59de9",
   "metadata": {},
   "outputs": [],
   "source": [
    "model_en.get_analogies(\"driving\",\"car\",\"phone\")"
   ]
  },
  {
   "cell_type": "code",
   "execution_count": null,
   "id": "9684d0df-a378-4882-917a-7459d0311550",
   "metadata": {},
   "outputs": [],
   "source": [
    "model_en.get_analogies(\"driving\",\"car\",\"book\")"
   ]
  },
  {
   "cell_type": "code",
   "execution_count": null,
   "id": "41c20036-51e8-4cdd-8dfc-24280becb5fe",
   "metadata": {},
   "outputs": [],
   "source": [
    "model_en.get_nearest_neighbors(\"chutney\")"
   ]
  },
  {
   "cell_type": "code",
   "execution_count": null,
   "id": "f69b1c01-967a-4925-9308-95524c62825a",
   "metadata": {},
   "outputs": [],
   "source": [
    "model_en.get_nearest_neighbors(\"halwa\")\n",
    "\n",
    "# give nearest or similar thing or word"
   ]
  },
  {
   "cell_type": "code",
   "execution_count": null,
   "id": "2c89ec47-0a7a-4106-89aa-9271849dfe37",
   "metadata": {},
   "outputs": [],
   "source": [
    "model_en.get_nearest_neighbors(\"saragva\", k=3)"
   ]
  },
  {
   "cell_type": "markdown",
   "id": "e5b13f23-04a6-4156-a7c2-53bbaef4b08c",
   "metadata": {},
   "source": [
    "(2) Explore Hindi Model"
   ]
  },
  {
   "cell_type": "code",
   "execution_count": null,
   "id": "69d678b2-6fc5-4700-b0ff-3858717dcd17",
   "metadata": {},
   "outputs": [],
   "source": [
    "model_hi = fasttext.load_model('C:\\\\Code\\\\nlp-tutorials\\\\downloads\\\\cc.hi.300.bin')"
   ]
  },
  {
   "cell_type": "code",
   "execution_count": null,
   "id": "6e4b7470-21b8-46dd-bc08-c9d205d5a47d",
   "metadata": {},
   "outputs": [],
   "source": [
    "model_hi.get_nearest_neighbors(\"अच्छा\")"
   ]
  },
  {
   "cell_type": "code",
   "execution_count": null,
   "id": "f529345b-dac3-4f86-8c37-8d4b53c81430",
   "metadata": {},
   "outputs": [],
   "source": [
    "model_hi.get_nearest_neighbors(\"गाय\")"
   ]
  },
  {
   "cell_type": "markdown",
   "id": "b6cb0f13-f144-4927-a485-5df607dd9af5",
   "metadata": {},
   "source": [
    "Custom train word embeddings on indian food receipes "
   ]
  },
  {
   "cell_type": "code",
   "execution_count": null,
   "id": "fa381d03-4f9d-4274-8987-9dc29a2edc38",
   "metadata": {},
   "outputs": [],
   "source": [
    "import pandas as pd\n",
    "\n",
    "df = pd.read_csv(\"Cleaned_Indian_Food_Dataset.csv\")\n",
    "print(df.shape)\n",
    "df.head(3)"
   ]
  },
  {
   "cell_type": "code",
   "execution_count": null,
   "id": "c26e2667-d29f-4fc7-9365-3e6c35e89093",
   "metadata": {},
   "outputs": [],
   "source": [
    "df.TranslatedInstructions[0]\n",
    "\n",
    "# It will give all data"
   ]
  },
  {
   "cell_type": "code",
   "execution_count": null,
   "id": "aeb4bae6-6ab1-48e5-ad82-ce9eafb6a99e",
   "metadata": {},
   "outputs": [],
   "source": [
    "import re\n",
    "\n",
    "text = 'To begin making the Masala Karela Recipe,de-seed the karela and slice.\\nDo not remove the skin as the skin has all the nutrients.\\nAdd the karela to the pressure cooker with 3 tablespoon of water, salt and turmeric powder and pressure cook for three whistles.\\nRelease the pressure immediately and open the lids.\\nKeep aside.Heat oil in a heavy bottomed pan or a kadhai.\\nAdd cumin seeds and let it sizzle.Once the cumin seeds have sizzled, add onions and saute them till it turns golden brown in color.Add the karela, red chilli powder, amchur powder, coriander powder and besan.\\nStir to combine the masalas into the karela.Drizzle a little extra oil on the top and mix again.\\nCover the pan and simmer Masala Karela stirring occasionally until everything comes together well.\\nTurn off the heat.Transfer Masala Karela into a serving bowl and serve.Serve Masala Karela along with Panchmel Dal and Phulka for a weekday meal with your family.\\n'\n",
    "\n",
    "re.sub(r\"[^\\w\\s]\", \" \", text, flags=re.MULTILINE)"
   ]
  },
  {
   "cell_type": "code",
   "execution_count": null,
   "id": "e6c22dfb-b2f4-4ede-a1b9-0040c4fab2eb",
   "metadata": {},
   "outputs": [],
   "source": [
    "def preprocess(text):\n",
    "    text = re.sub(r'[^\\w\\s\\']',' ', text)\n",
    "    text = re.sub(r'[ \\n]+', ' ', text)\n",
    "    return text.strip().lower() "
   ]
  },
  {
   "cell_type": "code",
   "execution_count": null,
   "id": "028d9d94-7f04-480d-9f95-3519e60810d0",
   "metadata": {},
   "outputs": [],
   "source": [
    "text = 'To begin making the Masala Karela Recipe,de-seed the karela and slice.\\nDo not remove the skin as the skin has all the nutrients.\\nAdd the karela to the pressure cooker with 3 tablespoon of water, salt and turmeric powder and pressure cook for three whistles.\\nRelease the pressure immediately and open the lids.\\nKeep aside.Heat oil in a heavy bottomed pan or a kadhai.\\nAdd cumin seeds and let it sizzle.Once the cumin seeds have sizzled, add onions and saute them till it turns golden brown in color.Add the karela, red chilli powder, amchur powder, coriander powder and besan.\\nStir to combine the masalas into the karela.Drizzle a little extra oil on the top and mix again.\\nCover the pan and simmer Masala Karela stirring occasionally until everything comes together well.\\nTurn off the heat.Transfer Masala Karela into a serving bowl and serve.Serve Masala Karela along with Panchmel Dal and Phulka for a weekday meal with your family.\\n'\n",
    "\n",
    "preprocess(text)"
   ]
  },
  {
   "cell_type": "code",
   "execution_count": null,
   "id": "b1f1fd89-e19f-4be2-a459-1f8f1baa7dd9",
   "metadata": {},
   "outputs": [],
   "source": [
    "df.TranslatedInstructions = df.TranslatedInstructions.map(preprocess)"
   ]
  },
  {
   "cell_type": "code",
   "execution_count": null,
   "id": "c191c697-4e64-403d-8a10-d93420a8730b",
   "metadata": {},
   "outputs": [],
   "source": [
    "df.TranslatedInstructions[0]"
   ]
  },
  {
   "cell_type": "code",
   "execution_count": null,
   "id": "7be792a1-83dc-4127-b8a0-1be2bbcb6e5b",
   "metadata": {},
   "outputs": [],
   "source": [
    "df.to_csv(\"food_receipes.txt\", columns=[\"TranslatedInstructions\"], header=None, index=False)"
   ]
  },
  {
   "cell_type": "code",
   "execution_count": null,
   "id": "8ad2bd11-7992-4dcc-b0e2-60d0801cfc6b",
   "metadata": {},
   "outputs": [],
   "source": [
    "import fasttext\n",
    "\n",
    "model = fasttext.train_unsupervised(\"food_receipes.txt\")"
   ]
  },
  {
   "cell_type": "code",
   "execution_count": null,
   "id": "d9fadb08-07b9-40a6-9b88-c1d994c76d2b",
   "metadata": {},
   "outputs": [],
   "source": [
    "model.get_nearest_neighbors(\"paneer\")"
   ]
  },
  {
   "cell_type": "code",
   "execution_count": null,
   "id": "7c22f704-f407-410a-a9b8-9854cca357f8",
   "metadata": {},
   "outputs": [],
   "source": [
    "model.get_nearest_neighbors(\"chutney\")"
   ]
  },
  {
   "cell_type": "code",
   "execution_count": null,
   "id": "7f223fb0-65d3-4fe3-aa19-00aef4197a3f",
   "metadata": {},
   "outputs": [],
   "source": [
    "model.get_nearest_neighbors(\"halwa\")"
   ]
  },
  {
   "cell_type": "code",
   "execution_count": null,
   "id": "50eb20f4-88f9-41a7-a267-ea98055f958d",
   "metadata": {},
   "outputs": [],
   "source": [
    "model.get_nearest_neighbors(\"dosa\")"
   ]
  },
  {
   "cell_type": "code",
   "execution_count": null,
   "id": "e494c207-4324-4a61-a07b-8d118e0e30b8",
   "metadata": {},
   "outputs": [],
   "source": [
    "model.get_nearest_neighbors(\"moong\")"
   ]
  },
  {
   "cell_type": "code",
   "execution_count": null,
   "id": "252e2e14-3c05-48a8-a4df-cbce48672bc7",
   "metadata": {},
   "outputs": [],
   "source": [
    "model.get_word_vector(\"dosa\").shape"
   ]
  },
  {
   "cell_type": "code",
   "execution_count": null,
   "id": "de03c89b-48f4-4948-a8a7-21ef7b023faa",
   "metadata": {},
   "outputs": [],
   "source": [
    "model.get_nearest_neighbors(\"saragva\")"
   ]
  },
  {
   "cell_type": "markdown",
   "id": "d111aec1-edd5-4a63-ad36-d859591fa27b",
   "metadata": {},
   "source": [
    "\n",
    "\n",
    "https://fasttext.cc/docs/en/unsupervised-tutorial.html for details on parameters in train_unsupervised function. Based on the need one can use following parameters for fine tunning,\n",
    "\n",
    "    epochs = Default value is 5. Epoch is how many times it will loop over the same dataset for the training\n",
    "    lr = Learning rate\n",
    "    thread = Number of threads for the training\n",
    "\n"
   ]
  },
  {
   "cell_type": "code",
   "execution_count": null,
   "id": "93383805-2838-49c9-87a6-c7a112ae5b74",
   "metadata": {},
   "outputs": [],
   "source": []
  }
 ],
 "metadata": {
  "kernelspec": {
   "display_name": "Python 3 (ipykernel)",
   "language": "python",
   "name": "python3"
  },
  "language_info": {
   "codemirror_mode": {
    "name": "ipython",
    "version": 3
   },
   "file_extension": ".py",
   "mimetype": "text/x-python",
   "name": "python",
   "nbconvert_exporter": "python",
   "pygments_lexer": "ipython3",
   "version": "3.10.14"
  }
 },
 "nbformat": 4,
 "nbformat_minor": 5
}
