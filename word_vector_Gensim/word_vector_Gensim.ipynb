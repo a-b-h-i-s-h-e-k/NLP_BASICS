{
 "cells": [
  {
   "cell_type": "markdown",
   "id": "e264396f-0a1d-4fd2-9bfc-655cd1fcf2d4",
   "metadata": {},
   "source": [
    "All gensim models: https://github.com/RaRe-Technologies/gensim-data\n",
    "\n",
    "- for me when it comes to word vectors the gensim api it is little bit more convivent."
   ]
  },
  {
   "cell_type": "code",
   "execution_count": null,
   "id": "9b2c6a8e-41af-4969-80b5-00d251a9816d",
   "metadata": {},
   "outputs": [
    {
     "name": "stdout",
     "output_type": "stream",
     "text": [
      "Collecting gensim\n"
     ]
    }
   ],
   "source": [
    "#!pip install gensim"
   ]
  },
  {
   "cell_type": "code",
   "execution_count": null,
   "id": "1769e969-9b89-454b-a01a-a46967967fc9",
   "metadata": {},
   "outputs": [],
   "source": [
    "import gensim.downloader as api\n",
    "# This is a huge model (~1.6 gb) and it will take some time to load\n",
    "\n",
    "wv = api.load('word2vec-google-news-300')"
   ]
  },
  {
   "cell_type": "code",
   "execution_count": null,
   "id": "2a19efde-cee4-484c-87df-87922fc5099d",
   "metadata": {},
   "outputs": [],
   "source": [
    "wv.similarity(w1=\"great\", w2=\"good\")\n",
    "\n",
    "# Check similarity of words"
   ]
  },
  {
   "cell_type": "code",
   "execution_count": null,
   "id": "a2c2811e-adb3-4864-af59-4873aa13022d",
   "metadata": {},
   "outputs": [],
   "source": [
    "wv.most_similar(\"good\")\n",
    "\n",
    "# most similar words find similar words to that word we pass in paranthesis."
   ]
  },
  {
   "cell_type": "code",
   "execution_count": null,
   "id": "ae45f117-d357-4afe-b3a0-4971e3528d88",
   "metadata": {},
   "outputs": [],
   "source": [
    "wv.most_similar(\"dog\")"
   ]
  },
  {
   "cell_type": "code",
   "execution_count": null,
   "id": "0ee3665c-9ef3-4ff9-aef4-adaa8a2c9e1e",
   "metadata": {},
   "outputs": [],
   "source": [
    "# # Import the required library to work with word vectors (assuming gensim is being used).\n",
    "# from gensim.models import KeyedVectors\n",
    "\n",
    "# # Load pre-trained word vectors into 'wv', replace 'path/to/your/model' with the actual path to your model.\n",
    "# wv = KeyedVectors.load('path/to/your/model')\n",
    "\n",
    "# The 'most_similar' function finds the top-n words most similar to the words in the 'positive' list\n",
    "# and least similar to the words in the 'negative' list.\n",
    "# positive=['king', 'woman']: The words 'king' and 'woman' are added vectors.\n",
    "# negative=['man']: The vector for 'man' is subtracted.\n",
    "# This operation effectively computes a new vector that tries to capture the concept of \"king\" + \"woman\" - \"man\".\n",
    "# The underlying idea is to perform a kind of \"analogy\" task, often described as: \"king is to man what X is to woman\".\n",
    "# Here, it might be looking for a word that relates to 'woman' in the way 'king' relates to 'man'.\n",
    "\n",
    "# topn=5: This specifies that the top 5 most similar words are returned based on the computed vector.\n",
    "\n",
    "# Execute the function and print the results.\n",
    "similar_words = wv.most_similar(positive=['king', 'woman'], negative=['man'], topn=5)\n",
    "print(similar_words)\n"
   ]
  },
  {
   "cell_type": "code",
   "execution_count": null,
   "id": "ac628703-76f6-4dd2-b2da-88541a0845b5",
   "metadata": {},
   "outputs": [],
   "source": [
    "wv.most_similar(positive=['france', 'berlin'], negative=['paris'], topn=5)"
   ]
  },
  {
   "cell_type": "code",
   "execution_count": null,
   "id": "a97006f0-76a1-4b1b-a3f3-79d4b8cc7b85",
   "metadata": {},
   "outputs": [],
   "source": [
    "wv.doesnt_match([\"facebook\", \"cat\", \"google\", \"microsoft\"])\n",
    "\n",
    "# it give the word that doesn't match"
   ]
  },
  {
   "cell_type": "code",
   "execution_count": null,
   "id": "4ed0f900-127d-48c8-961a-3e9e066327bc",
   "metadata": {},
   "outputs": [],
   "source": [
    "wv.doesnt_match([\"dog\", \"cat\", \"google\", \"mouse\"])"
   ]
  },
  {
   "cell_type": "markdown",
   "id": "ec561e47-156d-4e77-8ed3-27a0e7038790",
   "metadata": {},
   "source": [
    "\n",
    "# Gensim: Glove\n",
    "\n",
    "Stanford's page on GloVe: https://nlp.stanford.edu/projects/glove/\n"
   ]
  },
  {
   "cell_type": "code",
   "execution_count": null,
   "id": "9ce8a088-9f57-4b87-b76b-f88253e7a643",
   "metadata": {},
   "outputs": [],
   "source": [
    "glv = api.load(\"glove-twitter-25\")"
   ]
  },
  {
   "cell_type": "code",
   "execution_count": null,
   "id": "070d4bbd-4c62-48a9-86a0-dda0b49f15a2",
   "metadata": {},
   "outputs": [],
   "source": [
    "glv.most_similar(\"good\")"
   ]
  },
  {
   "cell_type": "code",
   "execution_count": null,
   "id": "a5319fae-3d3c-4852-abd6-f62cd3ada6ab",
   "metadata": {},
   "outputs": [],
   "source": [
    "glv.doesnt_match(\"breakfast cereal dinner lunch\".split())"
   ]
  },
  {
   "cell_type": "code",
   "execution_count": null,
   "id": "3059b97d-115c-4f08-9487-201f75d54113",
   "metadata": {},
   "outputs": [],
   "source": [
    "glv.doesnt_match(\"facebook cat google microsoft\".split())"
   ]
  },
  {
   "cell_type": "code",
   "execution_count": null,
   "id": "559f4fc6-8330-4e44-aa13-f73c61e90c40",
   "metadata": {},
   "outputs": [],
   "source": [
    "glv.doesnt_match(\"banana grapes orange human\".split())"
   ]
  },
  {
   "cell_type": "code",
   "execution_count": null,
   "id": "fa27da34-4f8d-4303-9c31-c6f14bc0d307",
   "metadata": {},
   "outputs": [],
   "source": []
  },
  {
   "cell_type": "code",
   "execution_count": null,
   "id": "e96fb6cf-a141-4862-9b93-834a7d26ac10",
   "metadata": {},
   "outputs": [],
   "source": []
  },
  {
   "cell_type": "code",
   "execution_count": null,
   "id": "75f9a270-cbc1-41bf-ba82-90424d27918e",
   "metadata": {},
   "outputs": [],
   "source": []
  },
  {
   "cell_type": "code",
   "execution_count": null,
   "id": "77b4fddf-02cb-4ed6-a7a0-cb1bd58b4b61",
   "metadata": {},
   "outputs": [],
   "source": []
  },
  {
   "cell_type": "code",
   "execution_count": null,
   "id": "3c88cd7c-1e73-4668-bf50-e35a9d504595",
   "metadata": {},
   "outputs": [],
   "source": []
  },
  {
   "cell_type": "code",
   "execution_count": null,
   "id": "2f503739-ee75-4333-b4f2-059cf9ff5f62",
   "metadata": {},
   "outputs": [],
   "source": []
  },
  {
   "cell_type": "code",
   "execution_count": null,
   "id": "c82f4333-aa4b-4448-9fda-f94b17e7e186",
   "metadata": {},
   "outputs": [],
   "source": []
  },
  {
   "cell_type": "code",
   "execution_count": null,
   "id": "75608484-4bae-4cbd-b77d-776b824bde57",
   "metadata": {},
   "outputs": [],
   "source": []
  },
  {
   "cell_type": "code",
   "execution_count": null,
   "id": "a7f04cf3-cf9a-4fb2-83cc-8c14d770ba3b",
   "metadata": {},
   "outputs": [],
   "source": []
  }
 ],
 "metadata": {
  "kernelspec": {
   "display_name": "Python 3 (ipykernel)",
   "language": "python",
   "name": "python3"
  },
  "language_info": {
   "codemirror_mode": {
    "name": "ipython",
    "version": 3
   },
   "file_extension": ".py",
   "mimetype": "text/x-python",
   "name": "python",
   "nbconvert_exporter": "python",
   "pygments_lexer": "ipython3",
   "version": "3.10.14"
  }
 },
 "nbformat": 4,
 "nbformat_minor": 5
}
