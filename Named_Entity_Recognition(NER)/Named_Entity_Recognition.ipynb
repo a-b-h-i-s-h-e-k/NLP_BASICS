{
 "cells": [
  {
   "cell_type": "code",
   "execution_count": 1,
   "id": "ce57c54c-4d6e-4567-ad09-6ecfa9cd05d5",
   "metadata": {},
   "outputs": [],
   "source": [
    "import spacy"
   ]
  },
  {
   "cell_type": "code",
   "execution_count": 2,
   "id": "225a1ce6-4316-488b-94f8-b522f512eea9",
   "metadata": {},
   "outputs": [
    {
     "data": {
      "text/plain": [
       "['tok2vec', 'tagger', 'parser', 'attribute_ruler', 'lemmatizer', 'ner']"
      ]
     },
     "execution_count": 2,
     "metadata": {},
     "output_type": "execute_result"
    }
   ],
   "source": [
    "nlp = spacy.load(\"en_core_web_sm\")\n",
    "nlp.pipe_names"
   ]
  },
  {
   "cell_type": "code",
   "execution_count": 4,
   "id": "5399cf91-7535-4c7f-ae14-fa5918b449f8",
   "metadata": {},
   "outputs": [
    {
     "name": "stdout",
     "output_type": "stream",
     "text": [
      "Tesla Inc | ORG | Companies, agencies, institutions, etc.\n",
      "$45 billion | MONEY | Monetary values, including unit\n"
     ]
    }
   ],
   "source": [
    "doc = nlp(\"Tesla Inc is going to acquire twitter for $45 billion\")\n",
    "\n",
    "for ent in doc.ents:\n",
    "    print(ent.text, \"|\", ent.label_, \"|\", spacy.explain(ent.label_))"
   ]
  },
  {
   "cell_type": "code",
   "execution_count": 5,
   "id": "3040f1ce-1220-481f-9a8e-846d929df8ee",
   "metadata": {},
   "outputs": [
    {
     "data": {
      "text/html": [
       "<span class=\"tex2jax_ignore\"><div class=\"entities\" style=\"line-height: 2.5; direction: ltr\">\n",
       "<mark class=\"entity\" style=\"background: #7aecec; padding: 0.45em 0.6em; margin: 0 0.25em; line-height: 1; border-radius: 0.35em;\">\n",
       "    Tesla Inc\n",
       "    <span style=\"font-size: 0.8em; font-weight: bold; line-height: 1; border-radius: 0.35em; vertical-align: middle; margin-left: 0.5rem\">ORG</span>\n",
       "</mark>\n",
       " is going to acquire twitter for \n",
       "<mark class=\"entity\" style=\"background: #e4e7d2; padding: 0.45em 0.6em; margin: 0 0.25em; line-height: 1; border-radius: 0.35em;\">\n",
       "    $45 billion\n",
       "    <span style=\"font-size: 0.8em; font-weight: bold; line-height: 1; border-radius: 0.35em; vertical-align: middle; margin-left: 0.5rem\">MONEY</span>\n",
       "</mark>\n",
       "</div></span>"
      ],
      "text/plain": [
       "<IPython.core.display.HTML object>"
      ]
     },
     "metadata": {},
     "output_type": "display_data"
    }
   ],
   "source": [
    "from spacy import displacy\n",
    "\n",
    "displacy.render(doc, style=\"ent\")"
   ]
  },
  {
   "cell_type": "markdown",
   "id": "1e08c19f-7b0b-4e51-8095-42a554f480e1",
   "metadata": {},
   "source": [
    "# List down all the entities"
   ]
  },
  {
   "cell_type": "code",
   "execution_count": 6,
   "id": "ae0b00bc-0d7b-436f-99d6-1742d7660a84",
   "metadata": {},
   "outputs": [
    {
     "data": {
      "text/plain": [
       "['CARDINAL',\n",
       " 'DATE',\n",
       " 'EVENT',\n",
       " 'FAC',\n",
       " 'GPE',\n",
       " 'LANGUAGE',\n",
       " 'LAW',\n",
       " 'LOC',\n",
       " 'MONEY',\n",
       " 'NORP',\n",
       " 'ORDINAL',\n",
       " 'ORG',\n",
       " 'PERCENT',\n",
       " 'PERSON',\n",
       " 'PRODUCT',\n",
       " 'QUANTITY',\n",
       " 'TIME',\n",
       " 'WORK_OF_ART']"
      ]
     },
     "execution_count": 6,
     "metadata": {},
     "output_type": "execute_result"
    }
   ],
   "source": [
    "nlp.pipe_labels['ner']"
   ]
  },
  {
   "cell_type": "markdown",
   "id": "476fac35-07a4-4791-b6f7-72cb529fa41a",
   "metadata": {},
   "source": [
    "<b>List of entities are also documented on this page: https://spacy.io/models/en</b>"
   ]
  },
  {
   "cell_type": "code",
   "execution_count": 7,
   "id": "fbeff4cc-c038-4628-8d20-e74e6f7f2f12",
   "metadata": {},
   "outputs": [
    {
     "name": "stdout",
     "output_type": "stream",
     "text": [
      "Michael Bloomberg | PERSON | People, including fictional\n",
      "Bloomberg | GPE | Countries, cities, states\n",
      "1982 | DATE | Absolute or relative dates or periods\n"
     ]
    }
   ],
   "source": [
    "doc = nlp(\"Michael Bloomberg founded Bloomberg in 1982\")\n",
    "for ent in doc.ents:\n",
    "    print(ent.text, \"|\", ent.label_, \"|\", spacy.explain(ent.label_))"
   ]
  },
  {
   "cell_type": "markdown",
   "id": "32da34da-4899-4a1d-a6eb-5b2df8228b0b",
   "metadata": {},
   "source": [
    "\n",
    "\n",
    "Above it made a mistake in identifying Bloomberg the company. Let's try hugging face for this now.\n",
    "\n",
    "https://huggingface.co/dslim/bert-base-NER?text=Michael+Bloomberg+founded+Bloomberg+in+1982\n",
    "\n",
    "Here also go through 3 sample examples for NER\n"
   ]
  },
  {
   "cell_type": "code",
   "execution_count": 8,
   "id": "1cbf2ac9-2acf-4d9d-aba9-7888cef401d0",
   "metadata": {},
   "outputs": [
    {
     "name": "stdout",
     "output_type": "stream",
     "text": [
      "Tesla Inc  |  ORG  |  0 | 9\n",
      "Twitter Inc  |  PERSON  |  30 | 41\n",
      "$45 billion  |  MONEY  |  46 | 57\n"
     ]
    }
   ],
   "source": [
    "doc = nlp(\"Tesla Inc is going to acquire Twitter Inc for $45 billion\")\n",
    "for ent in doc.ents:\n",
    "    print(ent.text, \" | \", ent.label_, \" | \", ent.start_char, \"|\", ent.end_char)"
   ]
  },
  {
   "cell_type": "markdown",
   "id": "c54107b6-48b9-4ad5-849a-9f27a6438dec",
   "metadata": {},
   "source": [
    "# Setting custom entities"
   ]
  },
  {
   "cell_type": "code",
   "execution_count": 9,
   "id": "562a28c9-f44e-4f36-b1ff-587b56fa7afa",
   "metadata": {},
   "outputs": [
    {
     "name": "stdout",
     "output_type": "stream",
     "text": [
      "Tesla  |  ORG\n",
      "Twitter  |  PERSON\n",
      "$45 billion  |  MONEY\n"
     ]
    }
   ],
   "source": [
    "doc = nlp(\"Tesla is going to acquire Twitter for $45 billion\")\n",
    "for ent in doc.ents:\n",
    "    print(ent.text, \" | \", ent.label_)"
   ]
  },
  {
   "cell_type": "markdown",
   "id": "b0530f4d-a430-47d5-a84d-44fbc5c7a14e",
   "metadata": {},
   "source": [
    "span is a class in spacy, doc[0] -> single token"
   ]
  },
  {
   "cell_type": "code",
   "execution_count": 10,
   "id": "c68a3e4a-02ca-4c74-a475-68a1dbaddc4d",
   "metadata": {},
   "outputs": [
    {
     "data": {
      "text/plain": [
       "going to acquire"
      ]
     },
     "execution_count": 10,
     "metadata": {},
     "output_type": "execute_result"
    }
   ],
   "source": [
    "s = doc[2:5]\n",
    "s"
   ]
  },
  {
   "cell_type": "code",
   "execution_count": 11,
   "id": "981cd549-178c-4c7e-a19a-c49f45d47e66",
   "metadata": {},
   "outputs": [
    {
     "data": {
      "text/plain": [
       "spacy.tokens.span.Span"
      ]
     },
     "execution_count": 11,
     "metadata": {},
     "output_type": "execute_result"
    }
   ],
   "source": [
    "type(s)"
   ]
  },
  {
   "cell_type": "code",
   "execution_count": 14,
   "id": "499a5218-817e-407f-aeaa-8da2f220ad2c",
   "metadata": {},
   "outputs": [],
   "source": [
    "from spacy.tokens import Span\n",
    "\n",
    "s1 = Span(doc, 0, 1, label=\"ORG\") # my first span starting from 0 to 1[slicing][Tesla]\n",
    "s2 = Span(doc, 5, 6, label=\"ORG\")\n",
    "\n",
    "doc.set_ents([s1, s2], default=\"unmodified\")"
   ]
  },
  {
   "cell_type": "code",
   "execution_count": 15,
   "id": "8fd1f3ed-dde8-4de3-9067-52c64d4e1508",
   "metadata": {},
   "outputs": [
    {
     "name": "stdout",
     "output_type": "stream",
     "text": [
      "Tesla  |  ORG\n",
      "Twitter  |  ORG\n",
      "$45 billion  |  MONEY\n"
     ]
    }
   ],
   "source": [
    "for ent in doc.ents:\n",
    "    print(ent.text, \" | \", ent.label_)"
   ]
  },
  {
   "cell_type": "code",
   "execution_count": null,
   "id": "b570c01b-6c10-42e9-92ed-adb7012770fe",
   "metadata": {},
   "outputs": [],
   "source": []
  },
  {
   "cell_type": "markdown",
   "id": "82c09cbd-4524-4937-ba34-3a1567b766f6",
   "metadata": {},
   "source": [
    "# How can i build my own NER?\n",
    "\n",
    "## Approach 1: Simple Lookup\n",
    "   --> just simply look in dataset for company and person name and we do comparison.\n",
    "\n",
    "## Approach 2: Rule Based NER\n",
    "   --> xyz was born in 1985 like xyz is proper noun, like check pos, regex  we use \"Entity Ruler\" class\n",
    "\n",
    "## Approach 3: MAchine Learning\n",
    "  --> we use CRF(Conditiona Random Fields)\n",
    "  --> BERT"
   ]
  },
  {
   "cell_type": "code",
   "execution_count": null,
   "id": "37e2f407-5cfe-4256-a5c3-0e9e56d7bc98",
   "metadata": {},
   "outputs": [],
   "source": []
  },
  {
   "cell_type": "code",
   "execution_count": null,
   "id": "b263fe92-5e64-4321-b11c-0f4af22591e5",
   "metadata": {},
   "outputs": [],
   "source": []
  },
  {
   "cell_type": "code",
   "execution_count": null,
   "id": "b8ed9ab7-0d7d-4945-bf2c-efa5e988f9e6",
   "metadata": {},
   "outputs": [],
   "source": []
  },
  {
   "cell_type": "code",
   "execution_count": null,
   "id": "c0c7b725-ab2e-4a3b-812e-a9ecc88ca466",
   "metadata": {},
   "outputs": [],
   "source": []
  },
  {
   "cell_type": "code",
   "execution_count": null,
   "id": "6725c36a-bef9-4e91-bde0-c09af32ba3b6",
   "metadata": {},
   "outputs": [],
   "source": []
  },
  {
   "cell_type": "markdown",
   "id": "02d66315-e583-4779-83d6-0e041b55f933",
   "metadata": {},
   "source": [
    "# ASSGINMENT"
   ]
  },
  {
   "cell_type": "code",
   "execution_count": 16,
   "id": "3e7b3250-2e8d-4f47-a756-777dc956d734",
   "metadata": {},
   "outputs": [],
   "source": [
    "#importing necessary libraries \n",
    "import spacy\n",
    "\n",
    "nlp = spacy.load(\"en_core_web_sm\")  #creating an object and loading the pre-trained model for \"English\"\n"
   ]
  },
  {
   "cell_type": "markdown",
   "id": "d7478326-fcb5-4544-830a-d66caf943647",
   "metadata": {},
   "source": [
    "\n",
    "Excersie: 1\n",
    "\n",
    "    Extract all the Geographical (cities, Countries, states) names from a given text\n",
    "\n"
   ]
  },
  {
   "cell_type": "code",
   "execution_count": 17,
   "id": "20687742-f2cb-4b86-8d6f-0c54e6424cf8",
   "metadata": {},
   "outputs": [
    {
     "name": "stdout",
     "output_type": "stream",
     "text": [
      "Geographical location Names:  [Kiran, India, Delhi, Gujarat, Tamilnadu, Andhrapradesh, Assam, Bihar]\n",
      "Count:  8\n"
     ]
    }
   ],
   "source": [
    "text = \"\"\"Kiran want to know the famous foods in each state of India. So, he opened Google and search for this question. Google showed that\n",
    "in Delhi it is Chaat, in Gujarat it is Dal Dhokli, in Tamilnadu it is Pongal, in Andhrapradesh it is Biryani, in Assam it is Papaya Khar,\n",
    "in Bihar it is Litti Chowkha and so on for all other states\"\"\"\n",
    "\n",
    "doc = nlp(text)\n",
    "\n",
    "\n",
    "\n",
    "#list for storing all the names\n",
    "all_gpe_names = []\n",
    "\n",
    "for ent in doc.ents:\n",
    "  if ent.label_ == 'GPE':     #checking the whether token belongs to entity \"GPE\" [Geographical location]\n",
    "    all_gpe_names.append(ent)\n",
    "\n",
    "\n",
    "\n",
    "#finally printing the results\n",
    "print(\"Geographical location Names: \", all_gpe_names)\n",
    "print(\"Count: \", len(all_gpe_names))\n"
   ]
  },
  {
   "cell_type": "markdown",
   "id": "cbb2282f-421f-4a10-ad25-3b8dc84392ea",
   "metadata": {},
   "source": [
    "\n",
    "Excersie: 2\n",
    "\n",
    "    Extract all the birth dates of cricketers in the given Text\n",
    "\n"
   ]
  },
  {
   "cell_type": "code",
   "execution_count": 18,
   "id": "d829b761-b198-4915-be92-fb03342d3f3c",
   "metadata": {},
   "outputs": [
    {
     "name": "stdout",
     "output_type": "stream",
     "text": [
      "All Birth Dates:  [24 April 1973, 5 November 1988, 7 July 1981, 19 December 1974]\n",
      "Count:  4\n"
     ]
    }
   ],
   "source": [
    "text = \"\"\"Sachin Tendulkar was born on 24 April 1973, Virat Kholi was born on 5 November 1988, Dhoni was born on 7 July 1981\n",
    "and finally Ricky ponting was born on 19 December 1974.\"\"\"\n",
    "\n",
    "doc = nlp(text)\n",
    "\n",
    "\n",
    "\n",
    "#list for storing all the dates\n",
    "all_birth_dates = []\n",
    "\n",
    "for ent in doc.ents:\n",
    "  if ent.label_ == 'DATE':     #checking the whether token belongs to entity \"DATE\" [Dates]\n",
    "    all_birth_dates.append(ent)\n",
    "\n",
    "\n",
    "\n",
    "#finally printing the results\n",
    "print(\"All Birth Dates: \", all_birth_dates)\n",
    "print(\"Count: \", len(all_birth_dates))"
   ]
  },
  {
   "cell_type": "code",
   "execution_count": null,
   "id": "7acaf11b-178e-40d4-8760-86599e05d48c",
   "metadata": {},
   "outputs": [],
   "source": []
  },
  {
   "cell_type": "code",
   "execution_count": null,
   "id": "2e14258c-922e-491a-b9b3-e4468df73ff3",
   "metadata": {},
   "outputs": [],
   "source": []
  },
  {
   "cell_type": "code",
   "execution_count": null,
   "id": "d6915f78-bffb-40af-b71b-0e17b630fb63",
   "metadata": {},
   "outputs": [],
   "source": []
  },
  {
   "cell_type": "code",
   "execution_count": null,
   "id": "f0284da3-2225-452a-9583-583be5cb8158",
   "metadata": {},
   "outputs": [],
   "source": []
  },
  {
   "cell_type": "code",
   "execution_count": null,
   "id": "15b0b9a0-06c3-4223-8bf5-e2bed539b8da",
   "metadata": {},
   "outputs": [],
   "source": []
  },
  {
   "cell_type": "code",
   "execution_count": null,
   "id": "398d0661-95e5-4f12-a2c6-776a819bef79",
   "metadata": {},
   "outputs": [],
   "source": []
  },
  {
   "cell_type": "code",
   "execution_count": null,
   "id": "51b4c59b-62ef-4558-b561-88cbde89928f",
   "metadata": {},
   "outputs": [],
   "source": []
  },
  {
   "cell_type": "code",
   "execution_count": null,
   "id": "f5dfa8fa-4470-418c-89fb-9b8243061a8e",
   "metadata": {},
   "outputs": [],
   "source": []
  },
  {
   "cell_type": "code",
   "execution_count": null,
   "id": "329b7a72-8e2e-47f7-a0e0-512c2cfe1e4e",
   "metadata": {},
   "outputs": [],
   "source": []
  },
  {
   "cell_type": "code",
   "execution_count": null,
   "id": "9f7a5b5d-2d23-4e55-bbf5-3a4ee5cbb297",
   "metadata": {},
   "outputs": [],
   "source": []
  },
  {
   "cell_type": "code",
   "execution_count": null,
   "id": "de5d4d4b-f128-4aac-a71e-624c90e53302",
   "metadata": {},
   "outputs": [],
   "source": []
  },
  {
   "cell_type": "code",
   "execution_count": null,
   "id": "280e57bb-d051-4eb5-a8da-26faff8ebf0f",
   "metadata": {},
   "outputs": [],
   "source": []
  },
  {
   "cell_type": "code",
   "execution_count": null,
   "id": "ed593e4f-bc46-4602-9e9a-74c7166db217",
   "metadata": {},
   "outputs": [],
   "source": []
  },
  {
   "cell_type": "code",
   "execution_count": null,
   "id": "5f3ae42c-2f20-42e2-a2f3-ef6a099470c4",
   "metadata": {},
   "outputs": [],
   "source": []
  },
  {
   "cell_type": "code",
   "execution_count": null,
   "id": "74a95f5c-5942-4861-af07-d867494cb9a7",
   "metadata": {},
   "outputs": [],
   "source": []
  }
 ],
 "metadata": {
  "kernelspec": {
   "display_name": "Python 3 (ipykernel)",
   "language": "python",
   "name": "python3"
  },
  "language_info": {
   "codemirror_mode": {
    "name": "ipython",
    "version": 3
   },
   "file_extension": ".py",
   "mimetype": "text/x-python",
   "name": "python",
   "nbconvert_exporter": "python",
   "pygments_lexer": "ipython3",
   "version": "3.10.14"
  }
 },
 "nbformat": 4,
 "nbformat_minor": 5
}
