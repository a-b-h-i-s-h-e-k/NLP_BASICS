{
 "cells": [
  {
   "cell_type": "markdown",
   "id": "9445e27c-a31c-4dff-8619-cb3d977ff454",
   "metadata": {},
   "source": [
    "Regular expression pattern matching website - ['https://regex101.com/']"
   ]
  },
  {
   "cell_type": "code",
   "execution_count": 4,
   "id": "38258686-2bf7-4be2-a46c-a86975e70906",
   "metadata": {},
   "outputs": [],
   "source": [
    "# importing regular expression\n",
    "\n",
    "import re"
   ]
  },
  {
   "cell_type": "markdown",
   "id": "29102ce6-6b6b-48b7-a0ea-3688ba704050",
   "metadata": {},
   "source": [
    "# Extract Phone Number\n",
    "<br>\n",
    "-> \\d{10} - it match the 10 numbers, \\d{4} - it match 4 numbers <br>\n",
    "-> \\(\\d{3}\\)-\\d{3}-\\d{4}  -> (999)-333-7777 -> it will match these type of 10 number<br>"
   ]
  },
  {
   "cell_type": "code",
   "execution_count": 5,
   "id": "3bb3290a-c2c5-4fb7-a3df-40c07f7feddc",
   "metadata": {},
   "outputs": [
    {
     "data": {
      "text/plain": [
       "['9991116666', '(999)-333-7777']"
      ]
     },
     "execution_count": 5,
     "metadata": {},
     "output_type": "execute_result"
    }
   ],
   "source": [
    "text='''\n",
    "Elon musk's phone number is 9991116666, call him if you have any questions on dodgecoin. Tesla's revenue is 40 billion\n",
    "Tesla's CFO number (999)-333-7777\n",
    "'''\n",
    "\n",
    "pattern = '\\(\\d{3}\\)-\\d{3}-\\d{4}|\\d{10}'\n",
    "\n",
    "# findall will finad all the matches\n",
    "\n",
    "matches = re.findall(pattern, text)\n",
    "matches"
   ]
  },
  {
   "cell_type": "markdown",
   "id": "fbde4a55-4877-4588-94b3-ecc995327c7c",
   "metadata": {},
   "source": [
    "# Extract Note Titles\n",
    "\n",
    "![Tesla_Report](\"tesla_report_notes.jpg\")"
   ]
  },
  {
   "cell_type": "code",
   "execution_count": 6,
   "id": "bccfe33c-eeeb-4886-ba8f-1739a9344fde",
   "metadata": {},
   "outputs": [],
   "source": [
    "text = '''\n",
    "Note 1 - Overview\n",
    "Tesla, Inc. (“Tesla”, the “Company”, “we”, “us” or “our”) was incorporated in the State of Delaware on July 1, 2003. We design, develop, manufacture and sell high-performance fully electric vehicles and design, manufacture, install and sell solar energy generation and energy storage\n",
    "products. Our Chief Executive Officer, as the chief operating decision maker (“CODM”), organizes our company, manages resource allocations and measures performance among two operating and reportable segments: (i) automotive and (ii) energy generation and storage.\n",
    "Beginning in the first quarter of 2021, there has been a trend in many parts of the world of increasing availability and administration of vaccines\n",
    "against COVID-19, as well as an easing of restrictions on social, business, travel and government activities and functions. On the other hand, infection\n",
    "rates and regulations continue to fluctuate in various regions and there are ongoing global impacts resulting from the pandemic, including challenges\n",
    "and increases in costs for logistics and supply chains, such as increased port congestion, intermittent supplier delays and a shortfall of semiconductor\n",
    "supply. We have also previously been affected by temporary manufacturing closures, employment and compensation adjustments and impediments to\n",
    "administrative activities supporting our product deliveries and deployments.\n",
    "Note 2 - Summary of Significant Accounting Policies\n",
    "Unaudited Interim Financial Statements\n",
    "The consolidated balance sheet as of September 30, 2021, the consolidated statements of operations, the consolidated statements of\n",
    "comprehensive income, the consolidated statements of redeemable noncontrolling interests and equity for the three and nine months ended September\n",
    "30, 2021 and 2020 and the consolidated statements of cash flows for the nine months ended September 30, 2021 and 2020, as well as other information\n",
    "disclosed in the accompanying notes, are unaudited. The consolidated balance sheet as of December 31, 2020 was derived from the audited\n",
    "consolidated financial statements as of that date. The interim consolidated financial statements and the accompanying notes should be read in\n",
    "conjunction with the annual consolidated financial statements and the accompanying notes contained in our Annual Report on Form 10-K for the year\n",
    "ended December 31, 2020.\n",
    "'''"
   ]
  },
  {
   "cell_type": "code",
   "execution_count": 8,
   "id": "a2c2b092-a747-48c7-9d90-407c01785afd",
   "metadata": {},
   "outputs": [
    {
     "data": {
      "text/plain": [
       "['Overview', 'Summary of Significant Accounting Policies']"
      ]
     },
     "execution_count": 8,
     "metadata": {},
     "output_type": "execute_result"
    }
   ],
   "source": [
    "pattern = 'Note \\d - ([^\\n]*)'\n",
    "\n",
    "matches = re.findall(pattern, text)\n",
    "matches"
   ]
  },
  {
   "cell_type": "markdown",
   "id": "5363f7f2-82c8-4f41-be87-ec6cc7f20758",
   "metadata": {},
   "source": [
    "## Extract financial periods from a company's financial reporting\n",
    "\n",
    "financial year mean start with FY and then a year with it and then space  after that there is a quarter(Q1)"
   ]
  },
  {
   "cell_type": "code",
   "execution_count": 13,
   "id": "26163e5c-5c79-4581-814d-d0a64fa75d35",
   "metadata": {},
   "outputs": [
    {
     "data": {
      "text/plain": [
       "['FY2021 Q1', 'FY2020 Q4']"
      ]
     },
     "execution_count": 13,
     "metadata": {},
     "output_type": "execute_result"
    }
   ],
   "source": [
    "text = '''\n",
    "The gross cost of operating lease vehicles in FY2021 Q1 was $4.85 billion.\n",
    "In previous quarter i.e. FY2020 Q4 it was $3 billion. \n",
    "'''\n",
    "\n",
    "pattern = 'FY\\d{4} Q[1-4]'\n",
    "\n",
    "\n",
    "matches = re.findall(pattern, text)\n",
    "matches"
   ]
  },
  {
   "cell_type": "markdown",
   "id": "0c2408a1-94d9-4eb8-b7f2-3bcd944fa763",
   "metadata": {},
   "source": [
    "## Case insensitive pattern match using flags"
   ]
  },
  {
   "cell_type": "code",
   "execution_count": 14,
   "id": "5c02c7cd-fbd5-4bbe-bccb-9b95176a08be",
   "metadata": {},
   "outputs": [
    {
     "data": {
      "text/plain": [
       "['FY2021 Q1', 'fy2020 Q4']"
      ]
     },
     "execution_count": 14,
     "metadata": {},
     "output_type": "execute_result"
    }
   ],
   "source": [
    "text = '''\n",
    "The gross cost of operating lease vehicles in FY2021 Q1 was $4.85 billion.\n",
    "In previous quarter i.e. fy2020 Q4 it was $3 billion. \n",
    "'''\n",
    "\n",
    "pattern = 'FY\\d{4} Q[1-4]'\n",
    "\n",
    "# IGNORECASE is used to ignore uppercase and lower case it will match capital or lower Fy, fy\n",
    "\n",
    "\n",
    "matches = re.findall(pattern, text, flags=re.IGNORECASE)\n",
    "matches"
   ]
  },
  {
   "cell_type": "markdown",
   "id": "391a1a70-69f4-4f03-af3f-499d91b57db6",
   "metadata": {},
   "source": [
    "## Extract only financial numbers"
   ]
  },
  {
   "cell_type": "code",
   "execution_count": 15,
   "id": "40897184-43a4-4033-9cd7-6cc2cfb2a11b",
   "metadata": {},
   "outputs": [
    {
     "data": {
      "text/plain": [
       "['4.85', '3']"
      ]
     },
     "execution_count": 15,
     "metadata": {},
     "output_type": "execute_result"
    }
   ],
   "source": [
    "text = '''\n",
    "Tesla's gross cost of operating lease vehicles in FY2021 Q1 was $4.85 billion. \n",
    "In previous quarter i.e. FY2020 Q4 it was $3 billion.\n",
    "'''\n",
    "\n",
    "pattern = '\\$([0-9\\.]+)'\n",
    "matches = re.findall(pattern, text)\n",
    "matches"
   ]
  },
  {
   "cell_type": "markdown",
   "id": "8c0c018b-7ab8-4733-8d48-11cc3c54dd8b",
   "metadata": {},
   "source": [
    "## Extract periods and financial numbers both"
   ]
  },
  {
   "cell_type": "code",
   "execution_count": 19,
   "id": "f16ccd93-2a72-481a-bd6a-7191f05c1d95",
   "metadata": {},
   "outputs": [
    {
     "data": {
      "text/plain": [
       "[('2021 Q1', '4.85'), ('2020 Q4', '3')]"
      ]
     },
     "execution_count": 19,
     "metadata": {},
     "output_type": "execute_result"
    }
   ],
   "source": [
    "text = '''\n",
    "Tesla's gross cost of operating lease vehicles in FY2021 Q1 was $4.85 billion. \n",
    "In previous quarter i.e. FY2020 Q4 it was $3 billion.\n",
    "'''\n",
    "pattern = 'FY(\\d{4} Q[1-4])[^\\$]+\\$([0-9\\.]+)'\n",
    "\n",
    "matches = re.findall(pattern, text)\n",
    "matches\n",
    "\n",
    "# findall find all the occurence"
   ]
  },
  {
   "cell_type": "markdown",
   "id": "a8ea01e2-3156-4ead-8175-6ba30fbf1e82",
   "metadata": {},
   "source": [
    "## re.search"
   ]
  },
  {
   "cell_type": "code",
   "execution_count": 20,
   "id": "f8df7fbc-5861-4cb9-98fb-0344a535c69f",
   "metadata": {},
   "outputs": [
    {
     "data": {
      "text/plain": [
       "<re.Match object; span=(51, 84), match='FY2021 Q1 ljh lsj a 123 was $4.85'>"
      ]
     },
     "execution_count": 20,
     "metadata": {},
     "output_type": "execute_result"
    }
   ],
   "source": [
    "text = '''\n",
    "Tesla's gross cost of operating lease vehicles in FY2021 Q1 ljh lsj a 123 was $4.85 billion. Same number for FY2020 Q4 was $8 billion\n",
    "'''\n",
    "pattern = 'FY(\\d{4} Q[1-4])[^\\$]+\\$([0-9\\.]+)'\n",
    "\n",
    "matches = re.search(pattern, text)\n",
    "matches\n",
    "\n",
    "# search give us first occurnce"
   ]
  },
  {
   "cell_type": "code",
   "execution_count": 18,
   "id": "c96acded-f762-49bc-8e7b-8268d0bcf288",
   "metadata": {},
   "outputs": [
    {
     "data": {
      "text/plain": [
       "('2021 Q1', '4.85')"
      ]
     },
     "execution_count": 18,
     "metadata": {},
     "output_type": "execute_result"
    }
   ],
   "source": [
    "matches.groups()"
   ]
  },
  {
   "cell_type": "code",
   "execution_count": null,
   "id": "17ae6727-75a6-4ac0-a26c-ec3bf819a8ad",
   "metadata": {},
   "outputs": [],
   "source": []
  },
  {
   "cell_type": "code",
   "execution_count": null,
   "id": "387d0218-cd57-43f8-b0bb-882f8dd31430",
   "metadata": {},
   "outputs": [],
   "source": []
  },
  {
   "cell_type": "code",
   "execution_count": null,
   "id": "66a8c98e-d811-4f22-9817-bdd49c1adc18",
   "metadata": {},
   "outputs": [],
   "source": []
  },
  {
   "cell_type": "code",
   "execution_count": null,
   "id": "00c6bcbc-459e-4f4a-8c55-9f4f49dd0489",
   "metadata": {},
   "outputs": [],
   "source": []
  },
  {
   "cell_type": "markdown",
   "id": "f410fafe-eed0-4472-a17a-e24e3af46cc5",
   "metadata": {},
   "source": [
    "#  ASSGINMENT"
   ]
  },
  {
   "cell_type": "code",
   "execution_count": 21,
   "id": "4bf7652d-51c9-49eb-bc96-af528eaf222c",
   "metadata": {},
   "outputs": [],
   "source": [
    "import re"
   ]
  },
  {
   "cell_type": "markdown",
   "id": "8d22dd2e-d09f-4744-8ee2-67fd4f7e912d",
   "metadata": {},
   "source": [
    "# 1. Extract all twitter handles from following text. Twitter handle is the text that appears after https://twitter.com/ and is a single word. Also it contains only alpha numeric characters i.e. A-Z a-z , o to 9 and underscore _"
   ]
  },
  {
   "cell_type": "code",
   "execution_count": 22,
   "id": "8c9097b9-dfaa-482d-be54-01ca2e0431a2",
   "metadata": {},
   "outputs": [
    {
     "data": {
      "text/plain": [
       "['elonmusk', 'teslarati', 'dummy_tesla', 'dummy_2_tesla']"
      ]
     },
     "execution_count": 22,
     "metadata": {},
     "output_type": "execute_result"
    }
   ],
   "source": [
    "text = '''\n",
    "Follow our leader Elon musk on twitter here: https://twitter.com/elonmusk, more information \n",
    "on Tesla's products can be found at https://www.tesla.com/. Also here are leading influencers \n",
    "for tesla related news,\n",
    "https://twitter.com/teslarati\n",
    "https://twitter.com/dummy_tesla\n",
    "https://twitter.com/dummy_2_tesla\n",
    "'''\n",
    "\n",
    "pattern = 'https://twitter\\.com/([a-zA-Z0-9_]+)'\n",
    "\n",
    "re.findall(pattern, text)"
   ]
  },
  {
   "cell_type": "markdown",
   "id": "626d5a71-b36a-4235-bbc1-d45ee524d66f",
   "metadata": {},
   "source": [
    " https://twitter\\.com/([A-Za-z0-9_]+) <br>\n",
    " 1. https://twitter\\.com/: <br>\n",
    "   - https://twitter.com/ is the constant part of the Twitter URL. <br>\n",
    "   - \\. escapes the period . character, ensuring it matches a literal . instead of acting as a wildcard.<br>\n",
    "\n",
    "2. ([A-Za-z0-9_]+):\n",
    "\n",
    "     - () - This is a capturing group. It captures the Twitter handle after https://twitter.com/.\n",
    "     - [A-Za-z0-9_] - This matches any character that is an uppercase letter (A-Z), lowercase letter (a-z), digit (0-9), or an underscore (_).\n",
    "     - '+' - This quantifier ensures that the handle consists of one or more characters from the specified character set, meaning it captures the full handle until it encounters a non-matching character or space.\n",
    "        \n",
    "\n",
    "\n",
    "\n",
    "<br>\n",
    "\n",
    "http:\\/\\/ - Escapes the slashes in http://, allowing the forward slashes to be matched literally within a regex.<br>\n",
    "https:\\/\\/ - Escapes the slashes in https:// as well.<br>\n",
    "<br>\n",
    "With / as a regex delimiter, escape forward slashes like \\/.<br>\n",
    "Without / as a delimiter (like in Python), no need to escape / unless using a raw string, where \\ is used as r\"/\".<br>\n",
    "\n",
    "<br>\n",
    "\n",
    "In regex, '*' and '+' are quantifiers, but they have different meanings:<br>\n",
    "\n",
    "'*' (asterisk): Matches zero or more occurrences of the preceding character or group. This means the pattern can occur any number of times, including not at all.<br>\n",
    "\n",
    "For example, a* matches:<br>\n",
    "\n",
    "\"\" (an empty string)<br>\n",
    "\"a\", \"aa\", \"aaa\", etc.<br>\n",
    "\n",
    "'+' (plus): Matches one or more occurrences of the preceding character or group. This means the pattern must appear at least once to be a match.<br>\n",
    "\n",
    "For example, a+ matches:<br>\n",
    "\n",
    "\"a\", \"aa\", \"aaa\", etc.<br>\n",
    "\n",
    "But not \"\" (an empty string).<br>\n",
    "\n",
    "When to Use Each <br>\n",
    "\n",
    "Use '*' when you want to match something that might be optional or repeat indefinitely. For example, https?:// could be written as https*://, where the s might appear zero or one time (http:// or https://).<br>\n",
    "\n",
    "Use '+' when you want to match something that must appear at least once but can repeat. For example, a Twitter handle @\\w+ where \\w+ ensures the handle has at least one alphanumeric character, like @username, but @ alone wouldn’t match anything.<br>\n",
    "\n",
    "Example Comparison<br>\n",
    "If you wanted to match a string that has at least one digit following a dollar sign, you’d use:<br>\n",
    "\n",
    "regex <br>\n",
    "\n",
    "\\$\\d+ <br>\n",
    "This pattern ensures there’s at least one digit after $, such as $10.<br>\n",
    "\n",
    "But if you want to match both $10 and just $, you’d use:<br>\n",
    "\n",
    "regex <br>\n",
    "\n",
    "\\$\\d*<br>\n",
    "This pattern matches a dollar sign with or without any digits following it.<br>"
   ]
  },
  {
   "cell_type": "markdown",
   "id": "df6624d8-2727-497a-9f4f-6e9ce5e11737",
   "metadata": {},
   "source": [
    "# 2. Extract Concentration Risk Types. It will be a text that appears after \"Concentration Risk:\", In below example, your regex should extract these two strings\n",
    "\n",
    "(1) Credit Risk\n",
    "\n",
    "(2) Supply Rish\n"
   ]
  },
  {
   "cell_type": "code",
   "execution_count": 23,
   "id": "aefca6ca-a288-4cc9-aca4-edd226c3d19e",
   "metadata": {},
   "outputs": [
    {
     "data": {
      "text/plain": [
       "['Credit Risk', 'Supply Risk']"
      ]
     },
     "execution_count": 23,
     "metadata": {},
     "output_type": "execute_result"
    }
   ],
   "source": [
    "text = '''\n",
    "Concentration of Risk: Credit Risk\n",
    "Financial instruments that potentially subject us to a concentration of credit risk consist of cash, cash equivalents, marketable securities,\n",
    "restricted cash, accounts receivable, convertible note hedges, and interest rate swaps. Our cash balances are primarily invested in money market funds\n",
    "or on deposit at high credit quality financial institutions in the U.S. These deposits are typically in excess of insured limits. As of September 30, 2021\n",
    "and December 31, 2020, no entity represented 10% or more of our total accounts receivable balance. The risk of concentration for our convertible note\n",
    "hedges and interest rate swaps is mitigated by transacting with several highly-rated multinational banks.\n",
    "Concentration of Risk: Supply Risk\n",
    "We are dependent on our suppliers, including single source suppliers, and the inability of these suppliers to deliver necessary components of our\n",
    "products in a timely manner at prices, quality levels and volumes acceptable to us, or our inability to efficiently manage these components from these\n",
    "suppliers, could have a material adverse effect on our business, prospects, financial condition and operating results.\n",
    "'''\n",
    "\n",
    "pattern = 'Concentration of Risk: ([^\\n]*)'\n",
    "\n",
    "re.findall(pattern, text)"
   ]
  },
  {
   "cell_type": "markdown",
   "id": "02a62f6d-e992-4861-b4e7-670808c23baf",
   "metadata": {},
   "source": [
    "- The regular expression ([^\\n]*) can be broken down as follows: <br>\n",
    "\n",
    "1. ( and ) - Capturing Group: <br>\n",
    "   - The parentheses ( and ) create a capturing group, meaning anything matched within these will be captured for reference, typically as group(1) in most regex implementations. <br>\n",
    "\n",
    "2. [ ] - Character Class: <br>\n",
    "    - The square brackets [ ] define a character class. A character class matches any single character from within the brackets.<br>\n",
    "\n",
    "3. ^ inside the character class - Negation:<br>\n",
    "   - The caret ^ at the start of the character class negates it. This means it will match any character except those specified inside the brackets.<br>\n",
    "\n",
    "4. \\n - Newline Character:<br>\n",
    "   - The \\n represents a newline character (line break). So, [^n] matches any character except the newline character.<br>\n",
    "\n",
    "5. * - Quantifier (Zero or More):<br>\n",
    "   - The asterisk * is a quantifier that allows for matching zero or more occurrences of the preceding pattern. Here, it will match zero or more characters that are not newline characters.<br>\n",
    "\n",
    "     \n",
    "Summary <br>\n",
    "([^\\n]*) matches any sequence of characters on a single line (i.e., any characters except a newline) and captures it as a group.<br>"
   ]
  },
  {
   "cell_type": "markdown",
   "id": "ea62f824-9e22-4c13-bd4a-24e75d241315",
   "metadata": {},
   "source": [
    "# 3. Companies in europe reports their financial numbers of semi annual basis and you can have a document like this. To exatract quarterly and semin annual period you can use a regex as shown below\n",
    "\n",
    "Hint: you need to use (?:) here to match everything enclosed\n"
   ]
  },
  {
   "cell_type": "code",
   "execution_count": 24,
   "id": "5c89daa4-1c65-44b1-a086-1d1a70f4ad67",
   "metadata": {},
   "outputs": [
    {
     "data": {
      "text/plain": [
       "['2021 Q1', '2021 S1']"
      ]
     },
     "execution_count": 24,
     "metadata": {},
     "output_type": "execute_result"
    }
   ],
   "source": [
    "text = '''\n",
    "Tesla's gross cost of operating lease vehicles in FY2021 Q1 was $4.85 billion.\n",
    "BMW's gross cost of operating vehicles in FY2021 S1 was $8 billion.\n",
    "'''\n",
    "\n",
    "pattern = 'FY(\\d{4} (?:Q[1-4]|S[1-2]))'\n",
    "matches = re.findall(pattern, text)\n",
    "matches"
   ]
  },
  {
   "cell_type": "markdown",
   "id": "d8d4b834-8ebf-4002-9ef1-8aaeeb3d31a6",
   "metadata": {},
   "source": [
    "Here's the breakdown of the regular expression 'FY(\\d{4} (?:Q[1-4]|S[1-2]))': <br>\n",
    "\n",
    "1. FY - Matches the literal string \"FY\" at the start of the pattern. This could represent \"Fiscal Year\" or another fixed prefix in your data.<br>\n",
    "\n",
    "2. (\\d{4} (?:Q[1-4]|S[1-2])) - This is a capturing group, which means anything matched within this group will be captured. Let’s break down the details inside the parentheses: <br>\n",
    "\n",
    "    - \\d{4} - Matches exactly four digits (e.g., \"2023\"), which is commonly a year. <br>\n",
    "\n",
    "    - (space) - Matches a literal space right after the four digits, so the expression expects a space after the year.<br>\n",
    "\n",
    "    - (?:Q[1-4]|S[1-2]) - This is a non-capturing group (denoted by (?: ... )), meaning it groups parts of the expression without capturing them as a separate group. Inside this group: <br>\n",
    "                   -  Q[1-4] - Matches a \"Q\" followed by any single digit from 1 to 4. This could represent a quarter, such as \"Q1\" or \"Q3\". <br>\n",
    "\n",
    "                 - | - Acts as an OR operator, allowing for either \"Q[1-4]\" or \"S[1-2]\" to match. <br>\n",
    "\n",
    "                 - S[1-2] - Matches an \"S\" followed by either 1 or 2, potentially representing a semester (like \"S1\" or \"S2\"). <br>\n",
    "  \n",
    "      "
   ]
  },
  {
   "cell_type": "code",
   "execution_count": null,
   "id": "8ace7d19-9484-4947-ace7-9b11f06c915d",
   "metadata": {},
   "outputs": [],
   "source": []
  },
  {
   "cell_type": "code",
   "execution_count": null,
   "id": "dfaace96-9acd-478b-aeea-6b8087481903",
   "metadata": {},
   "outputs": [],
   "source": []
  },
  {
   "cell_type": "code",
   "execution_count": null,
   "id": "3f6b99ed-1c50-4dbf-886e-e9287b914a39",
   "metadata": {},
   "outputs": [],
   "source": []
  },
  {
   "cell_type": "code",
   "execution_count": null,
   "id": "fca601f0-dd95-478a-b0a2-3ff70556e46b",
   "metadata": {},
   "outputs": [],
   "source": []
  },
  {
   "cell_type": "code",
   "execution_count": null,
   "id": "6ee83db1-66c5-428e-a93f-0596bef33fc2",
   "metadata": {},
   "outputs": [],
   "source": []
  },
  {
   "cell_type": "code",
   "execution_count": null,
   "id": "f3bed414-19ae-4189-82dd-da1922dd088c",
   "metadata": {},
   "outputs": [],
   "source": []
  },
  {
   "cell_type": "code",
   "execution_count": null,
   "id": "ba2840f0-b4ed-4e0f-b631-fd0f0c8b7c2c",
   "metadata": {},
   "outputs": [],
   "source": []
  },
  {
   "cell_type": "code",
   "execution_count": null,
   "id": "4df90a77-2199-4d07-814c-ccbb762fd927",
   "metadata": {},
   "outputs": [],
   "source": []
  }
 ],
 "metadata": {
  "kernelspec": {
   "display_name": "Python 3 (ipykernel)",
   "language": "python",
   "name": "python3"
  },
  "language_info": {
   "codemirror_mode": {
    "name": "ipython",
    "version": 3
   },
   "file_extension": ".py",
   "mimetype": "text/x-python",
   "name": "python",
   "nbconvert_exporter": "python",
   "pygments_lexer": "ipython3",
   "version": "3.10.14"
  }
 },
 "nbformat": 4,
 "nbformat_minor": 5
}
