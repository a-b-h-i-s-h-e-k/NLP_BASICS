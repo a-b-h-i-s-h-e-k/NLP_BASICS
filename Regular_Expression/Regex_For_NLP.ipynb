{
 "cells": [
  {
   "cell_type": "markdown",
   "id": "7a5714e8-e951-4f2b-847c-c8cac37d7f0f",
   "metadata": {},
   "source": [
    "# NLP: -->\n",
    "Nlp is a field in computer science and AI that gives machines an ability to understand human language better and to assist in language related tasks.\n",
    "\n",
    "1. python, Library[2.spacy, 3.Gensim, 4. NLTK] allow to do nlp using python\n",
    "5. scikit learn --> For Machine Learning Model\n",
    "6. TensorFlow, Pytorch for deep learning related pronlems in nlp\n",
    "7. Hugging Face"
   ]
  },
  {
   "cell_type": "markdown",
   "id": "05cbcc05-e691-467e-a530-2bef3301304e",
   "metadata": {},
   "source": [
    "1. freely Available Pretrained Models\n",
    "- Fasttext-> Facebook's API & pre-trained models, <br>\n",
    "- Tensorflow /Tensorflow Hub <br>\n",
    "- GPT3 <br>\n",
    "\n",
    "- We use transfer learning to use this model <br>\n",
    "\n",
    "2. Opensource Ecosystem <br>\n",
    "\n",
    "3. Cheap Hardware, Cloud Resources <br>\n",
    "\n",
    "4. Learning Resources - youtube, udemy, cousera, bootcamps, towards data scienece<br>\n",
    "\n",
    "5. Huge Investment by big tech -> TPU, fasttext, alexa (they use nlp) <br>"
   ]
  },
  {
   "cell_type": "markdown",
   "id": "b1b96b2a-055a-4d45-b68d-a4f8992f824b",
   "metadata": {},
   "source": [
    "## regex101.com -> website for regular expression"
   ]
  },
  {
   "cell_type": "markdown",
   "id": "2b323033-d421-434c-9c83-60cbcb1eeb4c",
   "metadata": {},
   "source": [
    "# Objective :-> Use Cases\n",
    "1. Customer Service Chatbot\n",
    "2. Information Extraction"
   ]
  },
  {
   "cell_type": "markdown",
   "id": "9971bc03-0078-4060-bc4d-2f3cb74fae60",
   "metadata": {},
   "source": [
    "## (1) Regex in customer support\n",
    "\n",
    "## Retrieve order number"
   ]
  },
  {
   "cell_type": "code",
   "execution_count": 5,
   "id": "04c2049e-2a1d-4907-8ebe-e8a48c14d2ee",
   "metadata": {},
   "outputs": [],
   "source": [
    "# download git bash to run unix command on windows\n",
    "\n",
    "# python regex documentation"
   ]
  },
  {
   "cell_type": "code",
   "execution_count": 6,
   "id": "42a59196-6a06-4eb8-a78d-d9fd9e7af73c",
   "metadata": {},
   "outputs": [],
   "source": [
    "import re"
   ]
  },
  {
   "cell_type": "code",
   "execution_count": 7,
   "id": "450a5a42-ba50-4f19-bedf-68540a875cc7",
   "metadata": {},
   "outputs": [
    {
     "data": {
      "text/plain": [
       "['412889912']"
      ]
     },
     "execution_count": 7,
     "metadata": {},
     "output_type": "execute_result"
    }
   ],
   "source": [
    "chat1='Ghost: Hello, I am having an issue with my order # 412889912'\n",
    "\n",
    "pattern = 'order[^\\d]*(\\d*)'\n",
    "matches = re.findall(pattern, chat1)\n",
    "matches"
   ]
  },
  {
   "cell_type": "code",
   "execution_count": 8,
   "id": "a965c600-d800-49f7-9a80-f4b8291f136a",
   "metadata": {},
   "outputs": [
    {
     "data": {
      "text/plain": [
       "['412889912']"
      ]
     },
     "execution_count": 8,
     "metadata": {},
     "output_type": "execute_result"
    }
   ],
   "source": [
    "chat2='Ghost: I have a problem with my order number 412889912'\n",
    "pattern = 'order[^\\d]*(\\d*)'\n",
    "matches = re.findall(pattern, chat2)\n",
    "matches"
   ]
  },
  {
   "cell_type": "code",
   "execution_count": 9,
   "id": "a6c6744f-99f3-4a67-bb6c-8784a2d43126",
   "metadata": {},
   "outputs": [
    {
     "data": {
      "text/plain": [
       "['412889912']"
      ]
     },
     "execution_count": 9,
     "metadata": {},
     "output_type": "execute_result"
    }
   ],
   "source": [
    "chat3='Ghost: My order 412889912 is having an issue, I was charged 300$ when online it says 280$'\n",
    "pattern = 'order[^\\d]*(\\d*)'\n",
    "matches = re.findall(pattern, chat3)\n",
    "matches"
   ]
  },
  {
   "cell_type": "code",
   "execution_count": 11,
   "id": "b743d30a-9068-467f-9ea5-3a1042f3da1f",
   "metadata": {},
   "outputs": [],
   "source": [
    "def get_pattern_match(pattern, text):\n",
    "    # Define a function called get_pattern_match that takes two arguments:\n",
    "    # pattern: the regex pattern to search for in the text\n",
    "    # text: the text where the pattern will be searched\n",
    "    \n",
    "    matches = re.findall(pattern, text)\n",
    "    # Use re.findall() to search for all occurrences of the pattern in the text.\n",
    "    # re.findall() returns a list of all matches found, with each match as a separate item.\n",
    "    # The result is stored in the variable `matches`.\n",
    "    \n",
    "    if matches:\n",
    "        # Check if there are any matches in the list.\n",
    "        # This condition evaluates to True if the list is not empty.\n",
    "        \n",
    "        return matches[0]\n",
    "        # Return the first match found in the list (index 0).\n",
    "        # If there are multiple matches, only the first one is returned.\n",
    "        # If there are no matches, this line is skipped because the condition would be False.\n"
   ]
  },
  {
   "cell_type": "code",
   "execution_count": 12,
   "id": "858487c4-7a28-4a3b-9aa5-88d1eb8b2d6c",
   "metadata": {},
   "outputs": [
    {
     "data": {
      "text/plain": [
       "'412889912'"
      ]
     },
     "execution_count": 12,
     "metadata": {},
     "output_type": "execute_result"
    }
   ],
   "source": [
    "get_pattern_match('order[^\\d]*(\\d*)', chat1)"
   ]
  },
  {
   "cell_type": "markdown",
   "id": "7eca1adb-61eb-4798-bfe1-a8ee1c570ae3",
   "metadata": {},
   "source": [
    "## Retrieve email id and phone"
   ]
  },
  {
   "cell_type": "code",
   "execution_count": 14,
   "id": "5a9d10e5-15d7-4052-b823-e15ea00af564",
   "metadata": {},
   "outputs": [],
   "source": [
    "chat1 = 'Ghost: you ask lot of questions 😠  1235678912, abc@xyz.com'\n",
    "chat2 = 'Ghost: here it is: (123)-567-8912, abc@xyz.com'\n",
    "chat3 = 'Ghost: yes, phone: 1235678912 email: abc@xyz.com'\n"
   ]
  },
  {
   "cell_type": "markdown",
   "id": "a769236e-ed30-4ef9-bd86-4166a6e3ab17",
   "metadata": {},
   "source": [
    "-----Email id-----"
   ]
  },
  {
   "cell_type": "code",
   "execution_count": 15,
   "id": "b042b8f9-7581-4271-bb80-bf8acf842348",
   "metadata": {},
   "outputs": [
    {
     "data": {
      "text/plain": [
       "'abc@xyz.com'"
      ]
     },
     "execution_count": 15,
     "metadata": {},
     "output_type": "execute_result"
    }
   ],
   "source": [
    "get_pattern_match('[a-zA-Z0-9_]*@[a-z]*\\.[a-zA-Z0-9]*',chat1)"
   ]
  },
  {
   "cell_type": "code",
   "execution_count": 16,
   "id": "01d71afd-c7a7-47da-821d-a5ef5f416c25",
   "metadata": {},
   "outputs": [
    {
     "data": {
      "text/plain": [
       "'abc@xyz.com'"
      ]
     },
     "execution_count": 16,
     "metadata": {},
     "output_type": "execute_result"
    }
   ],
   "source": [
    "get_pattern_match('[a-zA-Z0-9_]*@[a-z]*\\.[a-zA-Z0-9]*',chat2)"
   ]
  },
  {
   "cell_type": "code",
   "execution_count": 17,
   "id": "9790f84a-bc20-45b6-a786-5410b1eb09dd",
   "metadata": {},
   "outputs": [
    {
     "data": {
      "text/plain": [
       "'abc@xyz.com'"
      ]
     },
     "execution_count": 17,
     "metadata": {},
     "output_type": "execute_result"
    }
   ],
   "source": [
    "get_pattern_match('[a-zA-Z0-9_]*@[a-z]*\\.[a-zA-Z0-9]*',chat3)"
   ]
  },
  {
   "cell_type": "markdown",
   "id": "1a975096-dc24-438d-8c73-b51f89b76438",
   "metadata": {},
   "source": [
    "-----Phone number-----"
   ]
  },
  {
   "cell_type": "code",
   "execution_count": 18,
   "id": "c5870bde-c887-4d33-87c9-223ff90c4873",
   "metadata": {},
   "outputs": [
    {
     "data": {
      "text/plain": [
       "('1235678912', '')"
      ]
     },
     "execution_count": 18,
     "metadata": {},
     "output_type": "execute_result"
    }
   ],
   "source": [
    "get_pattern_match('(\\d{10})|(\\(\\d{3}\\)-\\d{3}-\\d{4})',chat1)"
   ]
  },
  {
   "cell_type": "code",
   "execution_count": 19,
   "id": "17ea8dc9-f03e-4d14-a119-2e8d7087b854",
   "metadata": {},
   "outputs": [
    {
     "data": {
      "text/plain": [
       "('', '(123)-567-8912')"
      ]
     },
     "execution_count": 19,
     "metadata": {},
     "output_type": "execute_result"
    }
   ],
   "source": [
    "get_pattern_match('(\\d{10})|(\\(\\d{3}\\)-\\d{3}-\\d{4})', chat2)"
   ]
  },
  {
   "cell_type": "code",
   "execution_count": 20,
   "id": "29953216-7f76-4a9c-8fa3-31c60dec0330",
   "metadata": {},
   "outputs": [
    {
     "data": {
      "text/plain": [
       "('1235678912', '')"
      ]
     },
     "execution_count": 20,
     "metadata": {},
     "output_type": "execute_result"
    }
   ],
   "source": [
    "get_pattern_match('(\\d{10})|(\\(\\d{3}\\)-\\d{3}-\\d{4})', chat3)"
   ]
  },
  {
   "cell_type": "markdown",
   "id": "f719c05c-916e-4aa4-823d-b63278f99253",
   "metadata": {},
   "source": [
    "# (2) Regex for Information Extraction"
   ]
  },
  {
   "cell_type": "code",
   "execution_count": 21,
   "id": "d5c39e05-ff67-43c2-bab1-a74926f73f4a",
   "metadata": {},
   "outputs": [],
   "source": [
    "text='''\n",
    "Born\tElon Reeve Musk\n",
    "June 28, 1971 (age 50)\n",
    "Pretoria, Transvaal, South Africa\n",
    "Citizenship\t\n",
    "South Africa (1971–present)\n",
    "Canada (1971–present)\n",
    "United States (2002–present)\n",
    "Education\tUniversity of Pennsylvania (BS, BA)\n",
    "Title\t\n",
    "Founder, CEO and Chief Engineer of SpaceX\n",
    "CEO and product architect of Tesla, Inc.\n",
    "Founder of The Boring Company and X.com (now part of PayPal)\n",
    "Co-founder of Neuralink, OpenAI, and Zip2\n",
    "Spouse(s)\t\n",
    "Justine Wilson\n",
    "​\n",
    "​(m. 2000; div. 2008)​\n",
    "Talulah Riley\n",
    "​\n",
    "​(m. 2010; div. 2012)​\n",
    "​\n",
    "​(m. 2013; div. 2016)\n",
    "'''"
   ]
  },
  {
   "cell_type": "code",
   "execution_count": 22,
   "id": "0c741d5f-0ff5-41fc-b2a0-0c80d0972fec",
   "metadata": {},
   "outputs": [
    {
     "data": {
      "text/plain": [
       "'50'"
      ]
     },
     "execution_count": 22,
     "metadata": {},
     "output_type": "execute_result"
    }
   ],
   "source": [
    "get_pattern_match(r'age (\\d+)', text)"
   ]
  },
  {
   "cell_type": "code",
   "execution_count": 30,
   "id": "833e7a16-1688-495f-ba27-5ceefa4ffe13",
   "metadata": {},
   "outputs": [
    {
     "data": {
      "text/plain": [
       "'Mukesh Dhirubhai Ambani'"
      ]
     },
     "execution_count": 30,
     "metadata": {},
     "output_type": "execute_result"
    }
   ],
   "source": [
    "get_pattern_match(r'Born(.*)\\n', text).strip()\n",
    "\n",
    "# we are using strip function to remove extra space from lag or lead of word."
   ]
  },
  {
   "cell_type": "code",
   "execution_count": 31,
   "id": "57b536db-c07b-4e19-a67d-38f06c23f8ce",
   "metadata": {},
   "outputs": [
    {
     "data": {
      "text/plain": [
       "'19 April 1957'"
      ]
     },
     "execution_count": 31,
     "metadata": {},
     "output_type": "execute_result"
    }
   ],
   "source": [
    "get_pattern_match(r'Born.*\\n(.*)\\(age', text).strip()"
   ]
  },
  {
   "cell_type": "code",
   "execution_count": 32,
   "id": "3a3a222e-e39c-4bc4-bddf-93607bee01dc",
   "metadata": {},
   "outputs": [
    {
     "data": {
      "text/plain": [
       "'Aden, Colony of Aden'"
      ]
     },
     "execution_count": 32,
     "metadata": {},
     "output_type": "execute_result"
    }
   ],
   "source": [
    "get_pattern_match(r'\\(age.*\\n(.*)', text)"
   ]
  },
  {
   "cell_type": "code",
   "execution_count": 33,
   "id": "7dbeb33b-651a-4be0-984c-fc31997e524f",
   "metadata": {},
   "outputs": [],
   "source": [
    "def extract_personal_information(text):\n",
    "    # Define a function called `extract_personal_information` that takes one argument:\n",
    "    # text: a string containing personal information from which details will be extracted.\n",
    "\n",
    "    age = get_pattern_match('age (\\d+)', text)\n",
    "    # Use `get_pattern_match` to find and extract the age from the text.\n",
    "    # The pattern 'age (\\d+)' matches the word \"age\" followed by one or more digits (age value).\n",
    "    # The result is stored in the variable `age`.\n",
    "\n",
    "    full_name = get_pattern_match('Born(.*)\\n', text)\n",
    "    # Extract the full name of the person from the text.\n",
    "    # The pattern 'Born(.*)\\n' matches \"Born\" followed by any characters until a newline.\n",
    "    # The result (captured by the group `(.*)`) is stored in `full_name`.\n",
    "\n",
    "    birth_date = get_pattern_match('Born.*\\n(.*)\\(age', text)\n",
    "    # Extract the birth date from the text.\n",
    "    # The pattern 'Born.*\\n(.*)\\(age' matches \"Born\" followed by any characters until a newline,\n",
    "    # then captures any characters until \"(age\", assuming the birth date appears in this position.\n",
    "    # The result is stored in `birth_date`.\n",
    "\n",
    "    birth_place = get_pattern_match('\\(age.*\\n(.*)', text)\n",
    "    # Extract the birth place from the text.\n",
    "    # The pattern '\\(age.*\\n(.*)' matches \"(age\" followed by any characters until a newline,\n",
    "    # then captures the following line (which is the birth place).\n",
    "    # The result is stored in `birth_place`.\n",
    "\n",
    "    return {\n",
    "        'age': int(age),\n",
    "        # Convert the extracted `age` to an integer and store it in the dictionary under the key 'age'.\n",
    "        \n",
    "        'name': full_name.strip(),\n",
    "        # Remove any leading or trailing whitespace from `full_name` and store it under the key 'name'.\n",
    "        \n",
    "        'birth_date': birth_date.strip(),\n",
    "        # Remove any leading or trailing whitespace from `birth_date` and store it under the key 'birth_date'.\n",
    "        \n",
    "        'birth_place': birth_place.strip()\n",
    "        # Remove any leading or trailing whitespace from `birth_place` and store it under the key 'birth_place'.\n",
    "    }\n",
    "    # Return a dictionary containing the extracted and formatted details for age, name, birth date, and birth place.\n"
   ]
  },
  {
   "cell_type": "code",
   "execution_count": 34,
   "id": "5869384b-8e57-4452-a094-54d08f187302",
   "metadata": {},
   "outputs": [
    {
     "data": {
      "text/plain": [
       "{'age': 64,\n",
       " 'name': 'Mukesh Dhirubhai Ambani',\n",
       " 'birth_date': '19 April 1957',\n",
       " 'birth_place': 'Aden, Colony of Aden'}"
      ]
     },
     "execution_count": 34,
     "metadata": {},
     "output_type": "execute_result"
    }
   ],
   "source": [
    "extract_personal_information(text)"
   ]
  },
  {
   "cell_type": "code",
   "execution_count": 35,
   "id": "e4481c81-a091-4334-b188-2c82bf7ebfa9",
   "metadata": {},
   "outputs": [],
   "source": [
    "text = '''\n",
    "Born\tMukesh Dhirubhai Ambani\n",
    "19 April 1957 (age 64)\n",
    "Aden, Colony of Aden\n",
    "(present-day Yemen)[1][2]\n",
    "Nationality\tIndian\n",
    "Alma mater\t\n",
    "St. Xavier's College, Mumbai\n",
    "Institute of Chemical Technology (B.E.)\n",
    "Stanford University (drop-out)\n",
    "Occupation\tChairman and MD, Reliance Industries\n",
    "Spouse(s)\tNita Ambani ​(m. 1985)​[3]\n",
    "Children\t3\n",
    "Parent(s)\t\n",
    "Dhirubhai Ambani (father)\n",
    "Kokilaben Ambani (mother)\n",
    "Relatives\tAnil Ambani (brother)\n",
    "Tina Ambani (sister-in-law)\n",
    "'''"
   ]
  },
  {
   "cell_type": "code",
   "execution_count": 36,
   "id": "534307f7-2968-4dec-a1f7-7ec1957af876",
   "metadata": {},
   "outputs": [
    {
     "data": {
      "text/plain": [
       "{'age': 64,\n",
       " 'name': 'Mukesh Dhirubhai Ambani',\n",
       " 'birth_date': '19 April 1957',\n",
       " 'birth_place': 'Aden, Colony of Aden'}"
      ]
     },
     "execution_count": 36,
     "metadata": {},
     "output_type": "execute_result"
    }
   ],
   "source": [
    "extract_personal_information(text)"
   ]
  },
  {
   "cell_type": "markdown",
   "id": "29e264b8-ace6-4e29-9f2c-72dcf46e4170",
   "metadata": {},
   "source": [
    "## NLP\n",
    "1. Rules and Heuistics(regex)\n",
    "2. count vectorizer --> feed them in naive bais classifier -> Code base nayive base\n",
    "3. Sentence Embedding  -->  Bert\n",
    "4. cosine similarity"
   ]
  },
  {
   "cell_type": "code",
   "execution_count": null,
   "id": "0620756a-d13d-4846-a90c-e97971dc1ca4",
   "metadata": {},
   "outputs": [],
   "source": []
  },
  {
   "cell_type": "code",
   "execution_count": null,
   "id": "115e0c80-05f4-4f95-a701-f4464d206eca",
   "metadata": {},
   "outputs": [],
   "source": []
  },
  {
   "cell_type": "code",
   "execution_count": null,
   "id": "c8e517a8-443e-445f-a8f4-0db4d065248f",
   "metadata": {},
   "outputs": [],
   "source": []
  }
 ],
 "metadata": {
  "kernelspec": {
   "display_name": "Python 3 (ipykernel)",
   "language": "python",
   "name": "python3"
  },
  "language_info": {
   "codemirror_mode": {
    "name": "ipython",
    "version": 3
   },
   "file_extension": ".py",
   "mimetype": "text/x-python",
   "name": "python",
   "nbconvert_exporter": "python",
   "pygments_lexer": "ipython3",
   "version": "3.10.14"
  }
 },
 "nbformat": 4,
 "nbformat_minor": 5
}
